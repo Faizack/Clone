{
  "cells": [
    {
      "cell_type": "markdown",
      "metadata": {
        "id": "view-in-github",
        "colab_type": "text"
      },
      "source": [
        "<a href=\"https://colab.research.google.com/github/Faizack/Clone/blob/main/credit_card_fraud.ipynb\" target=\"_parent\"><img src=\"https://colab.research.google.com/assets/colab-badge.svg\" alt=\"Open In Colab\"/></a>"
      ]
    },
    {
      "cell_type": "markdown",
      "metadata": {
        "id": "bcxQ0aMD1G9H"
      },
      "source": [
        "## Importing Libraries"
      ]
    },
    {
      "cell_type": "code",
      "execution_count": 1,
      "metadata": {
        "execution": {
          "iopub.execute_input": "2022-03-18T04:08:49.414757Z",
          "iopub.status.busy": "2022-03-18T04:08:49.414157Z",
          "iopub.status.idle": "2022-03-18T04:08:49.423477Z",
          "shell.execute_reply": "2022-03-18T04:08:49.422712Z",
          "shell.execute_reply.started": "2022-03-18T04:08:49.414718Z"
        },
        "id": "5rFqC4kjmQdW",
        "trusted": true
      },
      "outputs": [],
      "source": [
        "import warnings\n",
        "warnings.filterwarnings('ignore')"
      ]
    },
    {
      "cell_type": "code",
      "execution_count": 2,
      "metadata": {
        "execution": {
          "iopub.execute_input": "2022-03-18T04:08:49.425473Z",
          "iopub.status.busy": "2022-03-18T04:08:49.424635Z",
          "iopub.status.idle": "2022-03-18T04:08:51.368778Z",
          "shell.execute_reply": "2022-03-18T04:08:51.367862Z",
          "shell.execute_reply.started": "2022-03-18T04:08:49.425418Z"
        },
        "id": "sjIgRuwjmSyu",
        "trusted": true
      },
      "outputs": [],
      "source": [
        "import pandas as pd\n",
        "import numpy as np\n",
        "from datetime import datetime, timedelta \n",
        "\n",
        "import matplotlib.pyplot as plt\n",
        "import seaborn as sns\n",
        "%matplotlib inline\n",
        "\n",
        "import scipy.stats as stats\n",
        "\n",
        "from sklearn.model_selection import cross_val_score\n",
        "from sklearn.preprocessing import LabelEncoder\n",
        "\n",
        "from sklearn.metrics import roc_curve, auc, accuracy_score, precision_score, recall_score, f1_score, roc_auc_score, confusion_matrix\n",
        "from sklearn.tree import DecisionTreeClassifier\n",
        "from sklearn.ensemble import RandomForestClassifier\n",
        "from sklearn.neighbors import KNeighborsClassifier\n",
        "from sklearn.linear_model import LogisticRegression\n",
        "from sklearn.naive_bayes import GaussianNB\n"
      ]
    },
    {
      "cell_type": "markdown",
      "metadata": {
        "id": "JYOXwa13gncc"
      },
      "source": [
        "## Importing the DataSet"
      ]
    },
    {
      "cell_type": "code",
      "execution_count": 3,
      "metadata": {
        "execution": {
          "iopub.execute_input": "2022-03-18T04:08:51.395527Z",
          "iopub.status.busy": "2022-03-18T04:08:51.394491Z",
          "iopub.status.idle": "2022-03-18T04:09:03.789179Z",
          "shell.execute_reply": "2022-03-18T04:09:03.788267Z",
          "shell.execute_reply.started": "2022-03-18T04:08:51.395446Z"
        },
        "trusted": true,
        "id": "dsb5NsLSgncd"
      },
      "outputs": [],
      "source": [
        "trainD= pd.read_csv('/content/fraudTrain.csv')\n",
        "testD= pd.read_csv('/content/fraudTest.csv')\n"
      ]
    },
    {
      "cell_type": "code",
      "execution_count": 4,
      "metadata": {
        "execution": {
          "iopub.execute_input": "2022-03-18T04:09:03.791087Z",
          "iopub.status.busy": "2022-03-18T04:09:03.790808Z",
          "iopub.status.idle": "2022-03-18T04:09:08.759243Z",
          "shell.execute_reply": "2022-03-18T04:09:08.757962Z",
          "shell.execute_reply.started": "2022-03-18T04:09:03.791058Z"
        },
        "trusted": true,
        "colab": {
          "base_uri": "https://localhost:8080/"
        },
        "id": "2sARySd7gnce",
        "outputId": "a0e6f413-188e-459d-e77a-fcd4ba595b8a"
      },
      "outputs": [
        {
          "output_type": "stream",
          "name": "stdout",
          "text": [
            "trainD Shape (31151, 23)\n",
            "trainD Size 716473\n",
            "testD Shape (31151, 23)\n",
            "testD Size 716473\n"
          ]
        }
      ],
      "source": [
        "print(\"trainD Shape\",trainD.shape) #Shape- no of rows and columns\n",
        "print(\"trainD Size\",trainD.size) #Size- number of elements in the data file\n",
        "print(\"testD Shape\",trainD.shape) #Shape- no of rows and columns\n",
        "print(\"testD Size\",trainD.size) #Size- number of elements in the data file"
      ]
    },
    {
      "cell_type": "markdown",
      "metadata": {
        "id": "hG2Ri8fHgncf"
      },
      "source": [
        "## Data PreProcessing"
      ]
    },
    {
      "cell_type": "code",
      "execution_count": 5,
      "metadata": {
        "execution": {
          "iopub.execute_input": "2022-03-18T04:09:08.781600Z",
          "iopub.status.busy": "2022-03-18T04:09:08.781342Z",
          "iopub.status.idle": "2022-03-18T04:09:08.794215Z",
          "shell.execute_reply": "2022-03-18T04:09:08.793060Z",
          "shell.execute_reply.started": "2022-03-18T04:09:08.781571Z"
        },
        "id": "OFwsbyAdxST3",
        "trusted": true
      },
      "outputs": [],
      "source": [
        "def details(df):\n",
        "    sum_null_values = df.isnull().sum()\n",
        "    percent_null_values = 100* (sum_null_values/len(df))\n",
        "    data_type = df.dtypes\n",
        "    unique_values = df.nunique()\n",
        "\n",
        "    table = pd.concat([sum_null_values,percent_null_values,data_type,unique_values], axis=1)\n",
        "    table_col = table.rename(columns = {0 : 'Missing Values', 1 : '% of Total Missing Values', 2 : 'Data_Type', 3: 'Unique values'})\n",
        "    return table_col"
      ]
    },
    {
      "cell_type": "code",
      "execution_count": 6,
      "metadata": {
        "execution": {
          "iopub.execute_input": "2022-03-18T04:09:08.796018Z",
          "iopub.status.busy": "2022-03-18T04:09:08.795705Z",
          "iopub.status.idle": "2022-03-18T04:09:08.807959Z",
          "shell.execute_reply": "2022-03-18T04:09:08.807250Z",
          "shell.execute_reply.started": "2022-03-18T04:09:08.795985Z"
        },
        "id": "gvgEguFJmSmz",
        "trusted": true,
        "colab": {
          "base_uri": "https://localhost:8080/",
          "height": 788
        },
        "outputId": "43109e85-311f-420f-cf55-f447992e81ee"
      },
      "outputs": [
        {
          "output_type": "stream",
          "name": "stdout",
          "text": [
            "                                       Details of Train Data                                        \n"
          ]
        },
        {
          "output_type": "execute_result",
          "data": {
            "text/plain": [
              "                       Missing Values  % of Total Missing Values Data_Type  \\\n",
              "Unnamed: 0                          0                    0.00000     int64   \n",
              "trans_date_trans_time               0                    0.00000    object   \n",
              "cc_num                              0                    0.00000     int64   \n",
              "merchant                            0                    0.00000    object   \n",
              "category                            0                    0.00000    object   \n",
              "amt                                 0                    0.00000   float64   \n",
              "first                               0                    0.00000    object   \n",
              "last                                0                    0.00000    object   \n",
              "gender                              0                    0.00000    object   \n",
              "street                              0                    0.00000    object   \n",
              "city                                1                    0.00321    object   \n",
              "state                               1                    0.00321    object   \n",
              "zip                                 1                    0.00321   float64   \n",
              "lat                                 1                    0.00321   float64   \n",
              "long                                1                    0.00321   float64   \n",
              "city_pop                            1                    0.00321   float64   \n",
              "job                                 1                    0.00321    object   \n",
              "dob                                 1                    0.00321    object   \n",
              "trans_num                           1                    0.00321    object   \n",
              "unix_time                           1                    0.00321   float64   \n",
              "merch_lat                           1                    0.00321   float64   \n",
              "merch_long                          1                    0.00321   float64   \n",
              "is_fraud                            1                    0.00321   float64   \n",
              "\n",
              "                       Unique values  \n",
              "Unnamed: 0                     31151  \n",
              "trans_date_trans_time          30794  \n",
              "cc_num                           909  \n",
              "merchant                         693  \n",
              "category                          14  \n",
              "amt                            13176  \n",
              "first                            337  \n",
              "last                             465  \n",
              "gender                             2  \n",
              "street                           909  \n",
              "city                             836  \n",
              "state                             50  \n",
              "zip                              898  \n",
              "lat                              896  \n",
              "long                             897  \n",
              "city_pop                         822  \n",
              "job                              475  \n",
              "dob                              895  \n",
              "trans_num                      31150  \n",
              "unix_time                      30793  \n",
              "merch_lat                      31121  \n",
              "merch_long                     31135  \n",
              "is_fraud                           2  "
            ],
            "text/html": [
              "\n",
              "  <div id=\"df-a1301abd-2757-4f83-af3c-2610e998e258\">\n",
              "    <div class=\"colab-df-container\">\n",
              "      <div>\n",
              "<style scoped>\n",
              "    .dataframe tbody tr th:only-of-type {\n",
              "        vertical-align: middle;\n",
              "    }\n",
              "\n",
              "    .dataframe tbody tr th {\n",
              "        vertical-align: top;\n",
              "    }\n",
              "\n",
              "    .dataframe thead th {\n",
              "        text-align: right;\n",
              "    }\n",
              "</style>\n",
              "<table border=\"1\" class=\"dataframe\">\n",
              "  <thead>\n",
              "    <tr style=\"text-align: right;\">\n",
              "      <th></th>\n",
              "      <th>Missing Values</th>\n",
              "      <th>% of Total Missing Values</th>\n",
              "      <th>Data_Type</th>\n",
              "      <th>Unique values</th>\n",
              "    </tr>\n",
              "  </thead>\n",
              "  <tbody>\n",
              "    <tr>\n",
              "      <th>Unnamed: 0</th>\n",
              "      <td>0</td>\n",
              "      <td>0.00000</td>\n",
              "      <td>int64</td>\n",
              "      <td>31151</td>\n",
              "    </tr>\n",
              "    <tr>\n",
              "      <th>trans_date_trans_time</th>\n",
              "      <td>0</td>\n",
              "      <td>0.00000</td>\n",
              "      <td>object</td>\n",
              "      <td>30794</td>\n",
              "    </tr>\n",
              "    <tr>\n",
              "      <th>cc_num</th>\n",
              "      <td>0</td>\n",
              "      <td>0.00000</td>\n",
              "      <td>int64</td>\n",
              "      <td>909</td>\n",
              "    </tr>\n",
              "    <tr>\n",
              "      <th>merchant</th>\n",
              "      <td>0</td>\n",
              "      <td>0.00000</td>\n",
              "      <td>object</td>\n",
              "      <td>693</td>\n",
              "    </tr>\n",
              "    <tr>\n",
              "      <th>category</th>\n",
              "      <td>0</td>\n",
              "      <td>0.00000</td>\n",
              "      <td>object</td>\n",
              "      <td>14</td>\n",
              "    </tr>\n",
              "    <tr>\n",
              "      <th>amt</th>\n",
              "      <td>0</td>\n",
              "      <td>0.00000</td>\n",
              "      <td>float64</td>\n",
              "      <td>13176</td>\n",
              "    </tr>\n",
              "    <tr>\n",
              "      <th>first</th>\n",
              "      <td>0</td>\n",
              "      <td>0.00000</td>\n",
              "      <td>object</td>\n",
              "      <td>337</td>\n",
              "    </tr>\n",
              "    <tr>\n",
              "      <th>last</th>\n",
              "      <td>0</td>\n",
              "      <td>0.00000</td>\n",
              "      <td>object</td>\n",
              "      <td>465</td>\n",
              "    </tr>\n",
              "    <tr>\n",
              "      <th>gender</th>\n",
              "      <td>0</td>\n",
              "      <td>0.00000</td>\n",
              "      <td>object</td>\n",
              "      <td>2</td>\n",
              "    </tr>\n",
              "    <tr>\n",
              "      <th>street</th>\n",
              "      <td>0</td>\n",
              "      <td>0.00000</td>\n",
              "      <td>object</td>\n",
              "      <td>909</td>\n",
              "    </tr>\n",
              "    <tr>\n",
              "      <th>city</th>\n",
              "      <td>1</td>\n",
              "      <td>0.00321</td>\n",
              "      <td>object</td>\n",
              "      <td>836</td>\n",
              "    </tr>\n",
              "    <tr>\n",
              "      <th>state</th>\n",
              "      <td>1</td>\n",
              "      <td>0.00321</td>\n",
              "      <td>object</td>\n",
              "      <td>50</td>\n",
              "    </tr>\n",
              "    <tr>\n",
              "      <th>zip</th>\n",
              "      <td>1</td>\n",
              "      <td>0.00321</td>\n",
              "      <td>float64</td>\n",
              "      <td>898</td>\n",
              "    </tr>\n",
              "    <tr>\n",
              "      <th>lat</th>\n",
              "      <td>1</td>\n",
              "      <td>0.00321</td>\n",
              "      <td>float64</td>\n",
              "      <td>896</td>\n",
              "    </tr>\n",
              "    <tr>\n",
              "      <th>long</th>\n",
              "      <td>1</td>\n",
              "      <td>0.00321</td>\n",
              "      <td>float64</td>\n",
              "      <td>897</td>\n",
              "    </tr>\n",
              "    <tr>\n",
              "      <th>city_pop</th>\n",
              "      <td>1</td>\n",
              "      <td>0.00321</td>\n",
              "      <td>float64</td>\n",
              "      <td>822</td>\n",
              "    </tr>\n",
              "    <tr>\n",
              "      <th>job</th>\n",
              "      <td>1</td>\n",
              "      <td>0.00321</td>\n",
              "      <td>object</td>\n",
              "      <td>475</td>\n",
              "    </tr>\n",
              "    <tr>\n",
              "      <th>dob</th>\n",
              "      <td>1</td>\n",
              "      <td>0.00321</td>\n",
              "      <td>object</td>\n",
              "      <td>895</td>\n",
              "    </tr>\n",
              "    <tr>\n",
              "      <th>trans_num</th>\n",
              "      <td>1</td>\n",
              "      <td>0.00321</td>\n",
              "      <td>object</td>\n",
              "      <td>31150</td>\n",
              "    </tr>\n",
              "    <tr>\n",
              "      <th>unix_time</th>\n",
              "      <td>1</td>\n",
              "      <td>0.00321</td>\n",
              "      <td>float64</td>\n",
              "      <td>30793</td>\n",
              "    </tr>\n",
              "    <tr>\n",
              "      <th>merch_lat</th>\n",
              "      <td>1</td>\n",
              "      <td>0.00321</td>\n",
              "      <td>float64</td>\n",
              "      <td>31121</td>\n",
              "    </tr>\n",
              "    <tr>\n",
              "      <th>merch_long</th>\n",
              "      <td>1</td>\n",
              "      <td>0.00321</td>\n",
              "      <td>float64</td>\n",
              "      <td>31135</td>\n",
              "    </tr>\n",
              "    <tr>\n",
              "      <th>is_fraud</th>\n",
              "      <td>1</td>\n",
              "      <td>0.00321</td>\n",
              "      <td>float64</td>\n",
              "      <td>2</td>\n",
              "    </tr>\n",
              "  </tbody>\n",
              "</table>\n",
              "</div>\n",
              "      <button class=\"colab-df-convert\" onclick=\"convertToInteractive('df-a1301abd-2757-4f83-af3c-2610e998e258')\"\n",
              "              title=\"Convert this dataframe to an interactive table.\"\n",
              "              style=\"display:none;\">\n",
              "        \n",
              "  <svg xmlns=\"http://www.w3.org/2000/svg\" height=\"24px\"viewBox=\"0 0 24 24\"\n",
              "       width=\"24px\">\n",
              "    <path d=\"M0 0h24v24H0V0z\" fill=\"none\"/>\n",
              "    <path d=\"M18.56 5.44l.94 2.06.94-2.06 2.06-.94-2.06-.94-.94-2.06-.94 2.06-2.06.94zm-11 1L8.5 8.5l.94-2.06 2.06-.94-2.06-.94L8.5 2.5l-.94 2.06-2.06.94zm10 10l.94 2.06.94-2.06 2.06-.94-2.06-.94-.94-2.06-.94 2.06-2.06.94z\"/><path d=\"M17.41 7.96l-1.37-1.37c-.4-.4-.92-.59-1.43-.59-.52 0-1.04.2-1.43.59L10.3 9.45l-7.72 7.72c-.78.78-.78 2.05 0 2.83L4 21.41c.39.39.9.59 1.41.59.51 0 1.02-.2 1.41-.59l7.78-7.78 2.81-2.81c.8-.78.8-2.07 0-2.86zM5.41 20L4 18.59l7.72-7.72 1.47 1.35L5.41 20z\"/>\n",
              "  </svg>\n",
              "      </button>\n",
              "      \n",
              "  <style>\n",
              "    .colab-df-container {\n",
              "      display:flex;\n",
              "      flex-wrap:wrap;\n",
              "      gap: 12px;\n",
              "    }\n",
              "\n",
              "    .colab-df-convert {\n",
              "      background-color: #E8F0FE;\n",
              "      border: none;\n",
              "      border-radius: 50%;\n",
              "      cursor: pointer;\n",
              "      display: none;\n",
              "      fill: #1967D2;\n",
              "      height: 32px;\n",
              "      padding: 0 0 0 0;\n",
              "      width: 32px;\n",
              "    }\n",
              "\n",
              "    .colab-df-convert:hover {\n",
              "      background-color: #E2EBFA;\n",
              "      box-shadow: 0px 1px 2px rgba(60, 64, 67, 0.3), 0px 1px 3px 1px rgba(60, 64, 67, 0.15);\n",
              "      fill: #174EA6;\n",
              "    }\n",
              "\n",
              "    [theme=dark] .colab-df-convert {\n",
              "      background-color: #3B4455;\n",
              "      fill: #D2E3FC;\n",
              "    }\n",
              "\n",
              "    [theme=dark] .colab-df-convert:hover {\n",
              "      background-color: #434B5C;\n",
              "      box-shadow: 0px 1px 3px 1px rgba(0, 0, 0, 0.15);\n",
              "      filter: drop-shadow(0px 1px 2px rgba(0, 0, 0, 0.3));\n",
              "      fill: #FFFFFF;\n",
              "    }\n",
              "  </style>\n",
              "\n",
              "      <script>\n",
              "        const buttonEl =\n",
              "          document.querySelector('#df-a1301abd-2757-4f83-af3c-2610e998e258 button.colab-df-convert');\n",
              "        buttonEl.style.display =\n",
              "          google.colab.kernel.accessAllowed ? 'block' : 'none';\n",
              "\n",
              "        async function convertToInteractive(key) {\n",
              "          const element = document.querySelector('#df-a1301abd-2757-4f83-af3c-2610e998e258');\n",
              "          const dataTable =\n",
              "            await google.colab.kernel.invokeFunction('convertToInteractive',\n",
              "                                                     [key], {});\n",
              "          if (!dataTable) return;\n",
              "\n",
              "          const docLinkHtml = 'Like what you see? Visit the ' +\n",
              "            '<a target=\"_blank\" href=https://colab.research.google.com/notebooks/data_table.ipynb>data table notebook</a>'\n",
              "            + ' to learn more about interactive tables.';\n",
              "          element.innerHTML = '';\n",
              "          dataTable['output_type'] = 'display_data';\n",
              "          await google.colab.output.renderOutput(dataTable, element);\n",
              "          const docLink = document.createElement('div');\n",
              "          docLink.innerHTML = docLinkHtml;\n",
              "          element.appendChild(docLink);\n",
              "        }\n",
              "      </script>\n",
              "    </div>\n",
              "  </div>\n",
              "  "
            ]
          },
          "metadata": {},
          "execution_count": 6
        }
      ],
      "source": [
        "print(\"Details of Train Data\".center(100))\n",
        "details(trainD)"
      ]
    },
    {
      "cell_type": "code",
      "execution_count": 7,
      "metadata": {
        "execution": {
          "iopub.execute_input": "2022-03-18T04:09:08.809551Z",
          "iopub.status.busy": "2022-03-18T04:09:08.809305Z",
          "iopub.status.idle": "2022-03-18T04:09:13.133665Z",
          "shell.execute_reply": "2022-03-18T04:09:13.132950Z",
          "shell.execute_reply.started": "2022-03-18T04:09:08.809523Z"
        },
        "id": "51t3FQUO1Wcg",
        "outputId": "ac2e49c7-8d6c-46ad-f666-e3a9c7733f1c",
        "trusted": true,
        "colab": {
          "base_uri": "https://localhost:8080/",
          "height": 788
        }
      },
      "outputs": [
        {
          "output_type": "stream",
          "name": "stdout",
          "text": [
            "                                       Details of Train Data                                        \n"
          ]
        },
        {
          "output_type": "execute_result",
          "data": {
            "text/plain": [
              "                       Missing Values  % of Total Missing Values Data_Type  \\\n",
              "Unnamed: 0                          0                    0.00000     int64   \n",
              "trans_date_trans_time               0                    0.00000    object   \n",
              "cc_num                              0                    0.00000     int64   \n",
              "merchant                            0                    0.00000    object   \n",
              "category                            0                    0.00000    object   \n",
              "amt                                 0                    0.00000   float64   \n",
              "first                               0                    0.00000    object   \n",
              "last                                0                    0.00000    object   \n",
              "gender                              0                    0.00000    object   \n",
              "street                              0                    0.00000    object   \n",
              "city                                1                    0.00321    object   \n",
              "state                               1                    0.00321    object   \n",
              "zip                                 1                    0.00321   float64   \n",
              "lat                                 1                    0.00321   float64   \n",
              "long                                1                    0.00321   float64   \n",
              "city_pop                            1                    0.00321   float64   \n",
              "job                                 1                    0.00321    object   \n",
              "dob                                 1                    0.00321    object   \n",
              "trans_num                           1                    0.00321    object   \n",
              "unix_time                           1                    0.00321   float64   \n",
              "merch_lat                           1                    0.00321   float64   \n",
              "merch_long                          1                    0.00321   float64   \n",
              "is_fraud                            1                    0.00321   float64   \n",
              "\n",
              "                       Unique values  \n",
              "Unnamed: 0                     31151  \n",
              "trans_date_trans_time          30794  \n",
              "cc_num                           909  \n",
              "merchant                         693  \n",
              "category                          14  \n",
              "amt                            13176  \n",
              "first                            337  \n",
              "last                             465  \n",
              "gender                             2  \n",
              "street                           909  \n",
              "city                             836  \n",
              "state                             50  \n",
              "zip                              898  \n",
              "lat                              896  \n",
              "long                             897  \n",
              "city_pop                         822  \n",
              "job                              475  \n",
              "dob                              895  \n",
              "trans_num                      31150  \n",
              "unix_time                      30793  \n",
              "merch_lat                      31121  \n",
              "merch_long                     31135  \n",
              "is_fraud                           2  "
            ],
            "text/html": [
              "\n",
              "  <div id=\"df-54a574f6-5d9d-4d4f-8c42-497a73a246c4\">\n",
              "    <div class=\"colab-df-container\">\n",
              "      <div>\n",
              "<style scoped>\n",
              "    .dataframe tbody tr th:only-of-type {\n",
              "        vertical-align: middle;\n",
              "    }\n",
              "\n",
              "    .dataframe tbody tr th {\n",
              "        vertical-align: top;\n",
              "    }\n",
              "\n",
              "    .dataframe thead th {\n",
              "        text-align: right;\n",
              "    }\n",
              "</style>\n",
              "<table border=\"1\" class=\"dataframe\">\n",
              "  <thead>\n",
              "    <tr style=\"text-align: right;\">\n",
              "      <th></th>\n",
              "      <th>Missing Values</th>\n",
              "      <th>% of Total Missing Values</th>\n",
              "      <th>Data_Type</th>\n",
              "      <th>Unique values</th>\n",
              "    </tr>\n",
              "  </thead>\n",
              "  <tbody>\n",
              "    <tr>\n",
              "      <th>Unnamed: 0</th>\n",
              "      <td>0</td>\n",
              "      <td>0.00000</td>\n",
              "      <td>int64</td>\n",
              "      <td>31151</td>\n",
              "    </tr>\n",
              "    <tr>\n",
              "      <th>trans_date_trans_time</th>\n",
              "      <td>0</td>\n",
              "      <td>0.00000</td>\n",
              "      <td>object</td>\n",
              "      <td>30794</td>\n",
              "    </tr>\n",
              "    <tr>\n",
              "      <th>cc_num</th>\n",
              "      <td>0</td>\n",
              "      <td>0.00000</td>\n",
              "      <td>int64</td>\n",
              "      <td>909</td>\n",
              "    </tr>\n",
              "    <tr>\n",
              "      <th>merchant</th>\n",
              "      <td>0</td>\n",
              "      <td>0.00000</td>\n",
              "      <td>object</td>\n",
              "      <td>693</td>\n",
              "    </tr>\n",
              "    <tr>\n",
              "      <th>category</th>\n",
              "      <td>0</td>\n",
              "      <td>0.00000</td>\n",
              "      <td>object</td>\n",
              "      <td>14</td>\n",
              "    </tr>\n",
              "    <tr>\n",
              "      <th>amt</th>\n",
              "      <td>0</td>\n",
              "      <td>0.00000</td>\n",
              "      <td>float64</td>\n",
              "      <td>13176</td>\n",
              "    </tr>\n",
              "    <tr>\n",
              "      <th>first</th>\n",
              "      <td>0</td>\n",
              "      <td>0.00000</td>\n",
              "      <td>object</td>\n",
              "      <td>337</td>\n",
              "    </tr>\n",
              "    <tr>\n",
              "      <th>last</th>\n",
              "      <td>0</td>\n",
              "      <td>0.00000</td>\n",
              "      <td>object</td>\n",
              "      <td>465</td>\n",
              "    </tr>\n",
              "    <tr>\n",
              "      <th>gender</th>\n",
              "      <td>0</td>\n",
              "      <td>0.00000</td>\n",
              "      <td>object</td>\n",
              "      <td>2</td>\n",
              "    </tr>\n",
              "    <tr>\n",
              "      <th>street</th>\n",
              "      <td>0</td>\n",
              "      <td>0.00000</td>\n",
              "      <td>object</td>\n",
              "      <td>909</td>\n",
              "    </tr>\n",
              "    <tr>\n",
              "      <th>city</th>\n",
              "      <td>1</td>\n",
              "      <td>0.00321</td>\n",
              "      <td>object</td>\n",
              "      <td>836</td>\n",
              "    </tr>\n",
              "    <tr>\n",
              "      <th>state</th>\n",
              "      <td>1</td>\n",
              "      <td>0.00321</td>\n",
              "      <td>object</td>\n",
              "      <td>50</td>\n",
              "    </tr>\n",
              "    <tr>\n",
              "      <th>zip</th>\n",
              "      <td>1</td>\n",
              "      <td>0.00321</td>\n",
              "      <td>float64</td>\n",
              "      <td>898</td>\n",
              "    </tr>\n",
              "    <tr>\n",
              "      <th>lat</th>\n",
              "      <td>1</td>\n",
              "      <td>0.00321</td>\n",
              "      <td>float64</td>\n",
              "      <td>896</td>\n",
              "    </tr>\n",
              "    <tr>\n",
              "      <th>long</th>\n",
              "      <td>1</td>\n",
              "      <td>0.00321</td>\n",
              "      <td>float64</td>\n",
              "      <td>897</td>\n",
              "    </tr>\n",
              "    <tr>\n",
              "      <th>city_pop</th>\n",
              "      <td>1</td>\n",
              "      <td>0.00321</td>\n",
              "      <td>float64</td>\n",
              "      <td>822</td>\n",
              "    </tr>\n",
              "    <tr>\n",
              "      <th>job</th>\n",
              "      <td>1</td>\n",
              "      <td>0.00321</td>\n",
              "      <td>object</td>\n",
              "      <td>475</td>\n",
              "    </tr>\n",
              "    <tr>\n",
              "      <th>dob</th>\n",
              "      <td>1</td>\n",
              "      <td>0.00321</td>\n",
              "      <td>object</td>\n",
              "      <td>895</td>\n",
              "    </tr>\n",
              "    <tr>\n",
              "      <th>trans_num</th>\n",
              "      <td>1</td>\n",
              "      <td>0.00321</td>\n",
              "      <td>object</td>\n",
              "      <td>31150</td>\n",
              "    </tr>\n",
              "    <tr>\n",
              "      <th>unix_time</th>\n",
              "      <td>1</td>\n",
              "      <td>0.00321</td>\n",
              "      <td>float64</td>\n",
              "      <td>30793</td>\n",
              "    </tr>\n",
              "    <tr>\n",
              "      <th>merch_lat</th>\n",
              "      <td>1</td>\n",
              "      <td>0.00321</td>\n",
              "      <td>float64</td>\n",
              "      <td>31121</td>\n",
              "    </tr>\n",
              "    <tr>\n",
              "      <th>merch_long</th>\n",
              "      <td>1</td>\n",
              "      <td>0.00321</td>\n",
              "      <td>float64</td>\n",
              "      <td>31135</td>\n",
              "    </tr>\n",
              "    <tr>\n",
              "      <th>is_fraud</th>\n",
              "      <td>1</td>\n",
              "      <td>0.00321</td>\n",
              "      <td>float64</td>\n",
              "      <td>2</td>\n",
              "    </tr>\n",
              "  </tbody>\n",
              "</table>\n",
              "</div>\n",
              "      <button class=\"colab-df-convert\" onclick=\"convertToInteractive('df-54a574f6-5d9d-4d4f-8c42-497a73a246c4')\"\n",
              "              title=\"Convert this dataframe to an interactive table.\"\n",
              "              style=\"display:none;\">\n",
              "        \n",
              "  <svg xmlns=\"http://www.w3.org/2000/svg\" height=\"24px\"viewBox=\"0 0 24 24\"\n",
              "       width=\"24px\">\n",
              "    <path d=\"M0 0h24v24H0V0z\" fill=\"none\"/>\n",
              "    <path d=\"M18.56 5.44l.94 2.06.94-2.06 2.06-.94-2.06-.94-.94-2.06-.94 2.06-2.06.94zm-11 1L8.5 8.5l.94-2.06 2.06-.94-2.06-.94L8.5 2.5l-.94 2.06-2.06.94zm10 10l.94 2.06.94-2.06 2.06-.94-2.06-.94-.94-2.06-.94 2.06-2.06.94z\"/><path d=\"M17.41 7.96l-1.37-1.37c-.4-.4-.92-.59-1.43-.59-.52 0-1.04.2-1.43.59L10.3 9.45l-7.72 7.72c-.78.78-.78 2.05 0 2.83L4 21.41c.39.39.9.59 1.41.59.51 0 1.02-.2 1.41-.59l7.78-7.78 2.81-2.81c.8-.78.8-2.07 0-2.86zM5.41 20L4 18.59l7.72-7.72 1.47 1.35L5.41 20z\"/>\n",
              "  </svg>\n",
              "      </button>\n",
              "      \n",
              "  <style>\n",
              "    .colab-df-container {\n",
              "      display:flex;\n",
              "      flex-wrap:wrap;\n",
              "      gap: 12px;\n",
              "    }\n",
              "\n",
              "    .colab-df-convert {\n",
              "      background-color: #E8F0FE;\n",
              "      border: none;\n",
              "      border-radius: 50%;\n",
              "      cursor: pointer;\n",
              "      display: none;\n",
              "      fill: #1967D2;\n",
              "      height: 32px;\n",
              "      padding: 0 0 0 0;\n",
              "      width: 32px;\n",
              "    }\n",
              "\n",
              "    .colab-df-convert:hover {\n",
              "      background-color: #E2EBFA;\n",
              "      box-shadow: 0px 1px 2px rgba(60, 64, 67, 0.3), 0px 1px 3px 1px rgba(60, 64, 67, 0.15);\n",
              "      fill: #174EA6;\n",
              "    }\n",
              "\n",
              "    [theme=dark] .colab-df-convert {\n",
              "      background-color: #3B4455;\n",
              "      fill: #D2E3FC;\n",
              "    }\n",
              "\n",
              "    [theme=dark] .colab-df-convert:hover {\n",
              "      background-color: #434B5C;\n",
              "      box-shadow: 0px 1px 3px 1px rgba(0, 0, 0, 0.15);\n",
              "      filter: drop-shadow(0px 1px 2px rgba(0, 0, 0, 0.3));\n",
              "      fill: #FFFFFF;\n",
              "    }\n",
              "  </style>\n",
              "\n",
              "      <script>\n",
              "        const buttonEl =\n",
              "          document.querySelector('#df-54a574f6-5d9d-4d4f-8c42-497a73a246c4 button.colab-df-convert');\n",
              "        buttonEl.style.display =\n",
              "          google.colab.kernel.accessAllowed ? 'block' : 'none';\n",
              "\n",
              "        async function convertToInteractive(key) {\n",
              "          const element = document.querySelector('#df-54a574f6-5d9d-4d4f-8c42-497a73a246c4');\n",
              "          const dataTable =\n",
              "            await google.colab.kernel.invokeFunction('convertToInteractive',\n",
              "                                                     [key], {});\n",
              "          if (!dataTable) return;\n",
              "\n",
              "          const docLinkHtml = 'Like what you see? Visit the ' +\n",
              "            '<a target=\"_blank\" href=https://colab.research.google.com/notebooks/data_table.ipynb>data table notebook</a>'\n",
              "            + ' to learn more about interactive tables.';\n",
              "          element.innerHTML = '';\n",
              "          dataTable['output_type'] = 'display_data';\n",
              "          await google.colab.output.renderOutput(dataTable, element);\n",
              "          const docLink = document.createElement('div');\n",
              "          docLink.innerHTML = docLinkHtml;\n",
              "          element.appendChild(docLink);\n",
              "        }\n",
              "      </script>\n",
              "    </div>\n",
              "  </div>\n",
              "  "
            ]
          },
          "metadata": {},
          "execution_count": 7
        }
      ],
      "source": [
        "print(\"Details of Train Data\".center(100))\n",
        "details(trainD)"
      ]
    },
    {
      "cell_type": "code",
      "execution_count": 8,
      "metadata": {
        "execution": {
          "iopub.execute_input": "2022-03-18T04:09:13.135620Z",
          "iopub.status.busy": "2022-03-18T04:09:13.135135Z",
          "iopub.status.idle": "2022-03-18T04:09:14.907389Z",
          "shell.execute_reply": "2022-03-18T04:09:14.906680Z",
          "shell.execute_reply.started": "2022-03-18T04:09:13.135587Z"
        },
        "id": "o5CXTs9p1WPa",
        "outputId": "755d09b2-8b30-496a-d1fa-e31b8b8fbaaf",
        "trusted": true,
        "colab": {
          "base_uri": "https://localhost:8080/",
          "height": 788
        }
      },
      "outputs": [
        {
          "output_type": "stream",
          "name": "stdout",
          "text": [
            "                                        Details of Test Data                                        \n"
          ]
        },
        {
          "output_type": "execute_result",
          "data": {
            "text/plain": [
              "                       Missing Values  % of Total Missing Values Data_Type  \\\n",
              "Unnamed: 0                          0                   0.000000     int64   \n",
              "trans_date_trans_time               0                   0.000000    object   \n",
              "cc_num                              0                   0.000000     int64   \n",
              "merchant                            0                   0.000000    object   \n",
              "category                            0                   0.000000    object   \n",
              "amt                                 0                   0.000000   float64   \n",
              "first                               0                   0.000000    object   \n",
              "last                                0                   0.000000    object   \n",
              "gender                              0                   0.000000    object   \n",
              "street                              0                   0.000000    object   \n",
              "city                                0                   0.000000    object   \n",
              "state                               0                   0.000000    object   \n",
              "zip                                 0                   0.000000     int64   \n",
              "lat                                 0                   0.000000   float64   \n",
              "long                                0                   0.000000   float64   \n",
              "city_pop                            0                   0.000000     int64   \n",
              "job                                 0                   0.000000    object   \n",
              "dob                                 0                   0.000000    object   \n",
              "trans_num                           0                   0.000000    object   \n",
              "unix_time                           1                   0.002856   float64   \n",
              "merch_lat                           1                   0.002856   float64   \n",
              "merch_long                          1                   0.002856   float64   \n",
              "is_fraud                            1                   0.002856   float64   \n",
              "\n",
              "                       Unique values  \n",
              "Unnamed: 0                     35008  \n",
              "trans_date_trans_time          34350  \n",
              "cc_num                           910  \n",
              "merchant                         693  \n",
              "category                          14  \n",
              "amt                            13842  \n",
              "first                            338  \n",
              "last                             467  \n",
              "gender                             2  \n",
              "street                           910  \n",
              "city                             838  \n",
              "state                             50  \n",
              "zip                              899  \n",
              "lat                              897  \n",
              "long                             897  \n",
              "city_pop                         824  \n",
              "job                              476  \n",
              "dob                              896  \n",
              "trans_num                      35008  \n",
              "unix_time                      34349  \n",
              "merch_lat                      34973  \n",
              "merch_long                     34984  \n",
              "is_fraud                           2  "
            ],
            "text/html": [
              "\n",
              "  <div id=\"df-9b5b37e0-52fb-4733-b914-d21a00b2a303\">\n",
              "    <div class=\"colab-df-container\">\n",
              "      <div>\n",
              "<style scoped>\n",
              "    .dataframe tbody tr th:only-of-type {\n",
              "        vertical-align: middle;\n",
              "    }\n",
              "\n",
              "    .dataframe tbody tr th {\n",
              "        vertical-align: top;\n",
              "    }\n",
              "\n",
              "    .dataframe thead th {\n",
              "        text-align: right;\n",
              "    }\n",
              "</style>\n",
              "<table border=\"1\" class=\"dataframe\">\n",
              "  <thead>\n",
              "    <tr style=\"text-align: right;\">\n",
              "      <th></th>\n",
              "      <th>Missing Values</th>\n",
              "      <th>% of Total Missing Values</th>\n",
              "      <th>Data_Type</th>\n",
              "      <th>Unique values</th>\n",
              "    </tr>\n",
              "  </thead>\n",
              "  <tbody>\n",
              "    <tr>\n",
              "      <th>Unnamed: 0</th>\n",
              "      <td>0</td>\n",
              "      <td>0.000000</td>\n",
              "      <td>int64</td>\n",
              "      <td>35008</td>\n",
              "    </tr>\n",
              "    <tr>\n",
              "      <th>trans_date_trans_time</th>\n",
              "      <td>0</td>\n",
              "      <td>0.000000</td>\n",
              "      <td>object</td>\n",
              "      <td>34350</td>\n",
              "    </tr>\n",
              "    <tr>\n",
              "      <th>cc_num</th>\n",
              "      <td>0</td>\n",
              "      <td>0.000000</td>\n",
              "      <td>int64</td>\n",
              "      <td>910</td>\n",
              "    </tr>\n",
              "    <tr>\n",
              "      <th>merchant</th>\n",
              "      <td>0</td>\n",
              "      <td>0.000000</td>\n",
              "      <td>object</td>\n",
              "      <td>693</td>\n",
              "    </tr>\n",
              "    <tr>\n",
              "      <th>category</th>\n",
              "      <td>0</td>\n",
              "      <td>0.000000</td>\n",
              "      <td>object</td>\n",
              "      <td>14</td>\n",
              "    </tr>\n",
              "    <tr>\n",
              "      <th>amt</th>\n",
              "      <td>0</td>\n",
              "      <td>0.000000</td>\n",
              "      <td>float64</td>\n",
              "      <td>13842</td>\n",
              "    </tr>\n",
              "    <tr>\n",
              "      <th>first</th>\n",
              "      <td>0</td>\n",
              "      <td>0.000000</td>\n",
              "      <td>object</td>\n",
              "      <td>338</td>\n",
              "    </tr>\n",
              "    <tr>\n",
              "      <th>last</th>\n",
              "      <td>0</td>\n",
              "      <td>0.000000</td>\n",
              "      <td>object</td>\n",
              "      <td>467</td>\n",
              "    </tr>\n",
              "    <tr>\n",
              "      <th>gender</th>\n",
              "      <td>0</td>\n",
              "      <td>0.000000</td>\n",
              "      <td>object</td>\n",
              "      <td>2</td>\n",
              "    </tr>\n",
              "    <tr>\n",
              "      <th>street</th>\n",
              "      <td>0</td>\n",
              "      <td>0.000000</td>\n",
              "      <td>object</td>\n",
              "      <td>910</td>\n",
              "    </tr>\n",
              "    <tr>\n",
              "      <th>city</th>\n",
              "      <td>0</td>\n",
              "      <td>0.000000</td>\n",
              "      <td>object</td>\n",
              "      <td>838</td>\n",
              "    </tr>\n",
              "    <tr>\n",
              "      <th>state</th>\n",
              "      <td>0</td>\n",
              "      <td>0.000000</td>\n",
              "      <td>object</td>\n",
              "      <td>50</td>\n",
              "    </tr>\n",
              "    <tr>\n",
              "      <th>zip</th>\n",
              "      <td>0</td>\n",
              "      <td>0.000000</td>\n",
              "      <td>int64</td>\n",
              "      <td>899</td>\n",
              "    </tr>\n",
              "    <tr>\n",
              "      <th>lat</th>\n",
              "      <td>0</td>\n",
              "      <td>0.000000</td>\n",
              "      <td>float64</td>\n",
              "      <td>897</td>\n",
              "    </tr>\n",
              "    <tr>\n",
              "      <th>long</th>\n",
              "      <td>0</td>\n",
              "      <td>0.000000</td>\n",
              "      <td>float64</td>\n",
              "      <td>897</td>\n",
              "    </tr>\n",
              "    <tr>\n",
              "      <th>city_pop</th>\n",
              "      <td>0</td>\n",
              "      <td>0.000000</td>\n",
              "      <td>int64</td>\n",
              "      <td>824</td>\n",
              "    </tr>\n",
              "    <tr>\n",
              "      <th>job</th>\n",
              "      <td>0</td>\n",
              "      <td>0.000000</td>\n",
              "      <td>object</td>\n",
              "      <td>476</td>\n",
              "    </tr>\n",
              "    <tr>\n",
              "      <th>dob</th>\n",
              "      <td>0</td>\n",
              "      <td>0.000000</td>\n",
              "      <td>object</td>\n",
              "      <td>896</td>\n",
              "    </tr>\n",
              "    <tr>\n",
              "      <th>trans_num</th>\n",
              "      <td>0</td>\n",
              "      <td>0.000000</td>\n",
              "      <td>object</td>\n",
              "      <td>35008</td>\n",
              "    </tr>\n",
              "    <tr>\n",
              "      <th>unix_time</th>\n",
              "      <td>1</td>\n",
              "      <td>0.002856</td>\n",
              "      <td>float64</td>\n",
              "      <td>34349</td>\n",
              "    </tr>\n",
              "    <tr>\n",
              "      <th>merch_lat</th>\n",
              "      <td>1</td>\n",
              "      <td>0.002856</td>\n",
              "      <td>float64</td>\n",
              "      <td>34973</td>\n",
              "    </tr>\n",
              "    <tr>\n",
              "      <th>merch_long</th>\n",
              "      <td>1</td>\n",
              "      <td>0.002856</td>\n",
              "      <td>float64</td>\n",
              "      <td>34984</td>\n",
              "    </tr>\n",
              "    <tr>\n",
              "      <th>is_fraud</th>\n",
              "      <td>1</td>\n",
              "      <td>0.002856</td>\n",
              "      <td>float64</td>\n",
              "      <td>2</td>\n",
              "    </tr>\n",
              "  </tbody>\n",
              "</table>\n",
              "</div>\n",
              "      <button class=\"colab-df-convert\" onclick=\"convertToInteractive('df-9b5b37e0-52fb-4733-b914-d21a00b2a303')\"\n",
              "              title=\"Convert this dataframe to an interactive table.\"\n",
              "              style=\"display:none;\">\n",
              "        \n",
              "  <svg xmlns=\"http://www.w3.org/2000/svg\" height=\"24px\"viewBox=\"0 0 24 24\"\n",
              "       width=\"24px\">\n",
              "    <path d=\"M0 0h24v24H0V0z\" fill=\"none\"/>\n",
              "    <path d=\"M18.56 5.44l.94 2.06.94-2.06 2.06-.94-2.06-.94-.94-2.06-.94 2.06-2.06.94zm-11 1L8.5 8.5l.94-2.06 2.06-.94-2.06-.94L8.5 2.5l-.94 2.06-2.06.94zm10 10l.94 2.06.94-2.06 2.06-.94-2.06-.94-.94-2.06-.94 2.06-2.06.94z\"/><path d=\"M17.41 7.96l-1.37-1.37c-.4-.4-.92-.59-1.43-.59-.52 0-1.04.2-1.43.59L10.3 9.45l-7.72 7.72c-.78.78-.78 2.05 0 2.83L4 21.41c.39.39.9.59 1.41.59.51 0 1.02-.2 1.41-.59l7.78-7.78 2.81-2.81c.8-.78.8-2.07 0-2.86zM5.41 20L4 18.59l7.72-7.72 1.47 1.35L5.41 20z\"/>\n",
              "  </svg>\n",
              "      </button>\n",
              "      \n",
              "  <style>\n",
              "    .colab-df-container {\n",
              "      display:flex;\n",
              "      flex-wrap:wrap;\n",
              "      gap: 12px;\n",
              "    }\n",
              "\n",
              "    .colab-df-convert {\n",
              "      background-color: #E8F0FE;\n",
              "      border: none;\n",
              "      border-radius: 50%;\n",
              "      cursor: pointer;\n",
              "      display: none;\n",
              "      fill: #1967D2;\n",
              "      height: 32px;\n",
              "      padding: 0 0 0 0;\n",
              "      width: 32px;\n",
              "    }\n",
              "\n",
              "    .colab-df-convert:hover {\n",
              "      background-color: #E2EBFA;\n",
              "      box-shadow: 0px 1px 2px rgba(60, 64, 67, 0.3), 0px 1px 3px 1px rgba(60, 64, 67, 0.15);\n",
              "      fill: #174EA6;\n",
              "    }\n",
              "\n",
              "    [theme=dark] .colab-df-convert {\n",
              "      background-color: #3B4455;\n",
              "      fill: #D2E3FC;\n",
              "    }\n",
              "\n",
              "    [theme=dark] .colab-df-convert:hover {\n",
              "      background-color: #434B5C;\n",
              "      box-shadow: 0px 1px 3px 1px rgba(0, 0, 0, 0.15);\n",
              "      filter: drop-shadow(0px 1px 2px rgba(0, 0, 0, 0.3));\n",
              "      fill: #FFFFFF;\n",
              "    }\n",
              "  </style>\n",
              "\n",
              "      <script>\n",
              "        const buttonEl =\n",
              "          document.querySelector('#df-9b5b37e0-52fb-4733-b914-d21a00b2a303 button.colab-df-convert');\n",
              "        buttonEl.style.display =\n",
              "          google.colab.kernel.accessAllowed ? 'block' : 'none';\n",
              "\n",
              "        async function convertToInteractive(key) {\n",
              "          const element = document.querySelector('#df-9b5b37e0-52fb-4733-b914-d21a00b2a303');\n",
              "          const dataTable =\n",
              "            await google.colab.kernel.invokeFunction('convertToInteractive',\n",
              "                                                     [key], {});\n",
              "          if (!dataTable) return;\n",
              "\n",
              "          const docLinkHtml = 'Like what you see? Visit the ' +\n",
              "            '<a target=\"_blank\" href=https://colab.research.google.com/notebooks/data_table.ipynb>data table notebook</a>'\n",
              "            + ' to learn more about interactive tables.';\n",
              "          element.innerHTML = '';\n",
              "          dataTable['output_type'] = 'display_data';\n",
              "          await google.colab.output.renderOutput(dataTable, element);\n",
              "          const docLink = document.createElement('div');\n",
              "          docLink.innerHTML = docLinkHtml;\n",
              "          element.appendChild(docLink);\n",
              "        }\n",
              "      </script>\n",
              "    </div>\n",
              "  </div>\n",
              "  "
            ]
          },
          "metadata": {},
          "execution_count": 8
        }
      ],
      "source": [
        "print(\"Details of Test Data\".center(100))\n",
        "details(testD)"
      ]
    },
    {
      "cell_type": "markdown",
      "metadata": {
        "id": "o6tA4YEfgnci"
      },
      "source": [
        "Remove null Row"
      ]
    },
    {
      "cell_type": "code",
      "source": [
        "cleaned_Train_df=trainD.dropna(0)\n",
        "cleaned_Test_df=testD.dropna(0)\n"
      ],
      "metadata": {
        "id": "1ZHUODHikYIy"
      },
      "execution_count": 9,
      "outputs": []
    },
    {
      "cell_type": "code",
      "source": [
        "cleaned_Train_df.columns"
      ],
      "metadata": {
        "colab": {
          "base_uri": "https://localhost:8080/"
        },
        "id": "l0iNsd5XlNCg",
        "outputId": "390a19b6-c697-4ca9-f58b-7cbe7b2c89e1"
      },
      "execution_count": 10,
      "outputs": [
        {
          "output_type": "execute_result",
          "data": {
            "text/plain": [
              "Index(['Unnamed: 0', 'trans_date_trans_time', 'cc_num', 'merchant', 'category',\n",
              "       'amt', 'first', 'last', 'gender', 'street', 'city', 'state', 'zip',\n",
              "       'lat', 'long', 'city_pop', 'job', 'dob', 'trans_num', 'unix_time',\n",
              "       'merch_lat', 'merch_long', 'is_fraud'],\n",
              "      dtype='object')"
            ]
          },
          "metadata": {},
          "execution_count": 10
        }
      ]
    },
    {
      "cell_type": "markdown",
      "source": [
        "Remove Unwanted Column"
      ],
      "metadata": {
        "id": "79LaIePqsDLm"
      }
    },
    {
      "cell_type": "code",
      "execution_count": 11,
      "metadata": {
        "execution": {
          "iopub.execute_input": "2022-03-18T04:09:14.916561Z",
          "iopub.status.busy": "2022-03-18T04:09:14.916074Z",
          "iopub.status.idle": "2022-03-18T04:09:15.193040Z",
          "shell.execute_reply": "2022-03-18T04:09:15.192307Z",
          "shell.execute_reply.started": "2022-03-18T04:09:14.916529Z"
        },
        "id": "BYiCsAdDmSZX",
        "trusted": true
      },
      "outputs": [],
      "source": [
        "cleaned_Train_df.drop(['Unnamed: 0','trans_date_trans_time', 'cc_num', 'merchant', 'street', 'city', 'state', 'zip', 'lat', 'job', 'trans_num', 'unix_time', 'first', 'last'],1,inplace=True)\n",
        "cleaned_Test_df.drop(['Unnamed: 0','trans_date_trans_time', 'cc_num', 'merchant', 'street', 'city', 'state', 'zip', 'lat', 'job', 'trans_num', 'unix_time', 'first', 'last'],1,inplace=True)"
      ]
    },
    {
      "cell_type": "code",
      "source": [
        "def label_encode(df):\n",
        "    \"\"\"\n",
        "    Performs label encoding for all object and category type columns in a dataframe,\n",
        "    including the target column. Handles date and time columns separately.\n",
        "    Returns the encoded dataframe.\n",
        "    \"\"\"\n",
        "    # Create a copy of the dataframe\n",
        "    encoded_df = df.copy()\n",
        "    \n",
        "    # Create a LabelEncoder object\n",
        "    le = LabelEncoder()\n",
        "    \n",
        "    # Encode object and category type columns\n",
        "    for col in encoded_df.select_dtypes(include=['object', 'category']):\n",
        "        encoded_df[col] = le.fit_transform(encoded_df[col])\n",
        "    \n",
        "    # Handle date and time columns separately\n",
        "    for col in encoded_df.select_dtypes(include=['datetime64']):\n",
        "        encoded_df[col] = encoded_df[col].astype(int)\n",
        "    \n",
        "    return encoded_df"
      ],
      "metadata": {
        "id": "JYR1oMLCmBKT"
      },
      "execution_count": 12,
      "outputs": []
    },
    {
      "cell_type": "code",
      "source": [
        "df_train = label_encode(cleaned_Train_df)\n",
        "df_test = label_encode(cleaned_Test_df)\n"
      ],
      "metadata": {
        "id": "psHH8BHEmVS8"
      },
      "execution_count": 13,
      "outputs": []
    },
    {
      "cell_type": "markdown",
      "metadata": {
        "id": "2tWhTPiguwnU"
      },
      "source": [
        "## EDA "
      ]
    },
    {
      "cell_type": "markdown",
      "metadata": {
        "id": "ifxbtIbI1UiN"
      },
      "source": [
        "Total Transactions"
      ]
    },
    {
      "cell_type": "code",
      "execution_count": 18,
      "metadata": {
        "execution": {
          "iopub.execute_input": "2022-03-18T04:09:32.815861Z",
          "iopub.status.busy": "2022-03-18T04:09:32.815616Z",
          "iopub.status.idle": "2022-03-18T04:09:34.366997Z",
          "shell.execute_reply": "2022-03-18T04:09:34.366123Z",
          "shell.execute_reply.started": "2022-03-18T04:09:32.815834Z"
        },
        "id": "3m0SpKdOYw1j",
        "trusted": true
      },
      "outputs": [],
      "source": [
        "non_fraud_train = df_train[df_train['is_fraud'] == 0]\n",
        "fraud_train = df_train[df_train['is_fraud'] == 1]\n",
        "\n",
        "non_fraud_test = df_test[df_test['is_fraud'] == 0]\n",
        "fraud_test = df_test[df_test['is_fraud'] == 1]"
      ]
    },
    {
      "cell_type": "markdown",
      "metadata": {
        "id": "8Ojm4PTnCryn"
      },
      "source": [
        "Data Imbalance Check"
      ]
    },
    {
      "cell_type": "code",
      "execution_count": 19,
      "metadata": {
        "execution": {
          "iopub.execute_input": "2022-03-18T04:09:35.180814Z",
          "iopub.status.busy": "2022-03-18T04:09:35.180177Z",
          "iopub.status.idle": "2022-03-18T04:09:35.419378Z",
          "shell.execute_reply": "2022-03-18T04:09:35.418348Z",
          "shell.execute_reply.started": "2022-03-18T04:09:35.180778Z"
        },
        "id": "0E-wePJ4fxGZ",
        "outputId": "72a158b1-9f5f-4bf0-d7a7-339b75441f68",
        "trusted": true,
        "colab": {
          "base_uri": "https://localhost:8080/",
          "height": 521
        }
      },
      "outputs": [
        {
          "output_type": "display_data",
          "data": {
            "text/plain": [
              "<Figure size 600x600 with 1 Axes>"
            ],
            "image/png": "[encoded data removed]"
          },
          "metadata": {}
        }
      ],
      "source": [
        "round(100*df_train['is_fraud'].value_counts(normalize=True),2).plot(kind='pie', figsize=(6, 6), autopct='%1.2f%%')\n",
        "plt.title(\"Fraudulent and Non-Fraudulent Distribution\")\n",
        "plt.legend([\"Genuine\", \"Fraud\"])\n",
        "plt.show()"
      ]
    },
    {
      "cell_type": "markdown",
      "metadata": {
        "id": "t0CAuPPPb8DY"
      },
      "source": [
        "From the above graphs we can see the imbalance of the data"
      ]
    },
    {
      "cell_type": "markdown",
      "metadata": {
        "id": "YTxKahcRuRcE"
      },
      "source": [
        "Univariate Analysis"
      ]
    },
    {
      "cell_type": "code",
      "execution_count": 21,
      "metadata": {
        "execution": {
          "iopub.execute_input": "2022-03-18T04:10:31.736179Z",
          "iopub.status.busy": "2022-03-18T04:10:31.735924Z",
          "iopub.status.idle": "2022-03-18T04:10:32.063574Z",
          "shell.execute_reply": "2022-03-18T04:10:32.062811Z",
          "shell.execute_reply.started": "2022-03-18T04:10:31.736147Z"
        },
        "id": "8Hxcx1XvQsSI",
        "outputId": "52bba3d1-367e-4aad-b268-159d30d82498",
        "trusted": true,
        "colab": {
          "base_uri": "https://localhost:8080/",
          "height": 406
        }
      },
      "outputs": [
        {
          "output_type": "execute_result",
          "data": {
            "text/plain": [
              "<Axes: xlabel='category'>"
            ]
          },
          "metadata": {},
          "execution_count": 21
        },
        {
          "output_type": "display_data",
          "data": {
            "text/plain": [
              "<Figure size 2000x800 with 1 Axes>"
            ],
            "image/png": "[encoded data removed]"
          },
          "metadata": {}
        }
      ],
      "source": [
        "fraud_train.groupby('category')['is_fraud'].sum().sort_values(ascending=False).plot(kind='bar', figsize=(20,8))"
      ]
    },
    {
      "cell_type": "markdown",
      "metadata": {
        "id": "HMd-h7tlinV4"
      },
      "source": [
        "Highest fraud transactions are shown in categories above"
      ]
    },
    {
      "cell_type": "markdown",
      "source": [
        "##  Preparation for Modelling with original data"
      ],
      "metadata": {
        "id": "0p9AAwywuHr8"
      }
    },
    {
      "cell_type": "code",
      "source": [
        "X_train = df_train.drop('is_fraud', axis=1)\n",
        "y_train = df_train['is_fraud']\n",
        "X_test = df_test.drop('is_fraud', axis=1)\n",
        "y_test = df_test['is_fraud']"
      ],
      "metadata": {
        "id": "PQpySFsrmfH9"
      },
      "execution_count": 14,
      "outputs": []
    },
    {
      "cell_type": "markdown",
      "source": [
        "## Defining Runnning And Evalting 5 Model\n",
        "\n",
        "* Logistic Regression\n",
        "* Decision Tree \n",
        "* KNN\n",
        "* Naive Bayes (Gaussian)\n",
        "* Random Forest\n"
      ],
      "metadata": {
        "id": "BZzJWIQnn0U0"
      }
    },
    {
      "cell_type": "code",
      "source": [
        "\n",
        "def evaluate_models(X_train, y_train, X_test, y_test):\n",
        "    # Define the models\n",
        "    models = {\n",
        "        'Logistic Regression': LogisticRegression(),\n",
        "        'Decision Tree': DecisionTreeClassifier(),\n",
        "        'K-Nearest Neighbors': KNeighborsClassifier(),\n",
        "        'Naive Bayes (Gaussian)': GaussianNB(),\n",
        "        'Random Forest': RandomForestClassifier(),     \n",
        "    }\n",
        "\n",
        "    # Fit the models, make predictions, and calculate evaluation metrics\n",
        "    results = {}\n",
        "    for name, model in models.items():\n",
        "        # Fit the model using cross-validation\n",
        "        scores = cross_val_score(model, X_train, y_train, cv=5)\n",
        "        print(f\"Model: {name}\")\n",
        "        print(f\"Cross-validation scores: {scores}\")\n",
        "        print(f\"Mean cross-validation score: {scores.mean()}\")\n",
        "        print(f\"Standard deviation of cross-validation scores: {scores.std()}\")\n",
        "\n",
        "        # Fit the model on the entire training set and make predictions\n",
        "        model.fit(X_train, y_train)\n",
        "        y_pred = model.predict(X_test)\n",
        "\n",
        "        # Calculate evaluation metrics on the test set\n",
        "        accuracy = accuracy_score(y_test, y_pred)\n",
        "        precision = precision_score(y_test, y_pred, average='macro')\n",
        "        recall = recall_score(y_test, y_pred, average='macro')\n",
        "        f1 = f1_score(y_test, y_pred, average='macro')\n",
        "        auc_roc = roc_auc_score(y_test, y_pred)\n",
        "        confusion = confusion_matrix(y_test, y_pred)\n",
        "        fpr, tpr, _ = roc_curve(y_test, y_pred)\n",
        "        roc_auc = auc(fpr, tpr)\n",
        "        results[name] = {\n",
        "            'accuracy': accuracy,\n",
        "            'precision': precision,\n",
        "            'recall': recall,\n",
        "            'f1': f1,\n",
        "            'auc_roc': auc_roc,\n",
        "            'confusion': confusion,\n",
        "            'fpr': fpr,\n",
        "            'tpr': tpr,\n",
        "            'roc_auc': roc_auc\n",
        "        }\n",
        "        \n",
        "        # Print the evaluation metrics\n",
        "        print(f\"Accuracy: {accuracy}\")\n",
        "        print(f\"Precision: {precision}\")\n",
        "        print(f\"Recall: {recall}\")\n",
        "        print(f\"F1 Score: {f1}\")\n",
        "        print(f\"AUC-ROC: {auc_roc}\")\n",
        "        print(f\"Confusion Matrix:\\n{confusion}\")\n",
        "        print(\"\")\n",
        "\n",
        "        # Plot the ROC curve\n",
        "        plt.figure()\n",
        "        plt.plot(fpr, tpr, color='darkorange', lw=2, label='ROC curve (area = %0.2f)' % roc_auc)\n",
        "        plt.plot([0, 1], [0, 1], color='navy', lw=2, linestyle='--')\n",
        "        plt.xlim([0.0, 1.0])\n",
        "        plt.ylim([0.0, 1.05])\n",
        "        plt.xlabel('False Positive Rate')\n",
        "        plt.ylabel('True Positive Rate')\n",
        "        plt.title(name + ' ROC Curve')\n",
        "        plt.legend(loc=\"lower right\")\n",
        "        plt.show()\n",
        "\n",
        "    return results\n"
      ],
      "metadata": {
        "id": "8U0mKsODn4Pj"
      },
      "execution_count": 15,
      "outputs": []
    },
    {
      "cell_type": "code",
      "source": [
        "results = evaluate_models(X_train , y_train, X_test,y_test)"
      ],
      "metadata": {
        "colab": {
          "base_uri": "https://localhost:8080/",
          "height": 1000
        },
        "id": "0Tan42cun8IV",
        "outputId": "9d8aae7c-b337-4d0e-fdfe-455e9a4b0539"
      },
      "execution_count": 17,
      "outputs": [
        {
          "output_type": "stream",
          "name": "stdout",
          "text": [
            "Model: Logistic Regression\n",
            "Cross-validation scores: [0.98924559 0.98988764 0.9882825  0.98892456 0.98876404]\n",
            "Mean cross-validation score: 0.9890208667736757\n",
            "Standard deviation of cross-validation scores: 0.0005333305850990752\n",
            "Accuracy: 0.9944582512069015\n",
            "Precision: 0.5390091316532393\n",
            "Recall: 0.5166793967849498\n",
            "F1 Score: 0.523120318174541\n",
            "AUC-ROC: 0.5166793967849498\n",
            "Confusion Matrix:\n",
            "[[34808    56]\n",
            " [  138     5]]\n",
            "\n"
          ]
        },
        {
          "output_type": "display_data",
          "data": {
            "text/plain": [
              "<Figure size 640x480 with 1 Axes>"
            ],
            "image/png": "[encoded data removed]"
          },
          "metadata": {}
        },
        {
          "output_type": "stream",
          "name": "stdout",
          "text": [
            "Model: Decision Tree\n",
            "Cross-validation scores: [0.99373997 0.99165329 0.99277689 0.99245586 0.99438202]\n",
            "Mean cross-validation score: 0.9930016051364365\n",
            "Standard deviation of cross-validation scores: 0.0009609392967637815\n",
            "Accuracy: 0.9943154226297598\n",
            "Precision: 0.671928322933348\n",
            "Recall: 0.7185730887973889\n",
            "F1 Score: 0.6924183818878821\n",
            "AUC-ROC: 0.7185730887973889\n",
            "Confusion Matrix:\n",
            "[[34745   119]\n",
            " [   80    63]]\n",
            "\n"
          ]
        },
        {
          "output_type": "display_data",
          "data": {
            "text/plain": [
              "<Figure size 640x480 with 1 Axes>"
            ],
            "image/png": "[encoded data removed]"
          },
          "metadata": {}
        },
        {
          "output_type": "stream",
          "name": "stdout",
          "text": [
            "Model: K-Nearest Neighbors\n",
            "Cross-validation scores: [0.98972713 0.98924559 0.98892456 0.99069021 0.99085072]\n",
            "Mean cross-validation score: 0.9898876404494381\n",
            "Standard deviation of cross-validation scores: 0.0007664421435835049\n",
            "Accuracy: 0.9935441483131945\n",
            "Precision: 0.567745315981239\n",
            "Recall: 0.5545242532822845\n",
            "F1 Score: 0.5603955715403993\n",
            "AUC-ROC: 0.5545242532822845\n",
            "Confusion Matrix:\n",
            "[[34765    99]\n",
            " [  127    16]]\n",
            "\n"
          ]
        },
        {
          "output_type": "display_data",
          "data": {
            "text/plain": [
              "<Figure size 640x480 with 1 Axes>"
            ],
            "image/png": "[encoded data removed]"
          },
          "metadata": {}
        },
        {
          "output_type": "stream",
          "name": "stdout",
          "text": [
            "Model: Naive Bayes (Gaussian)\n",
            "Cross-validation scores: [0.98715891 0.97961477 0.98202247 0.98491172 0.98314607]\n",
            "Mean cross-validation score: 0.983370786516854\n",
            "Standard deviation of cross-validation scores: 0.0025573606762959123\n",
            "Accuracy: 0.9883737538206644\n",
            "Precision: 0.5839164041956829\n",
            "Recall: 0.7330008793409436\n",
            "F1 Score: 0.622300922734881\n",
            "AUC-ROC: 0.7330008793409436\n",
            "Confusion Matrix:\n",
            "[[34532   332]\n",
            " [   75    68]]\n",
            "\n"
          ]
        },
        {
          "output_type": "display_data",
          "data": {
            "text/plain": [
              "<Figure size 640x480 with 1 Axes>"
            ],
            "image/png": "[encoded data removed]"
          },
          "metadata": {}
        },
        {
          "output_type": "stream",
          "name": "stdout",
          "text": [
            "Model: Random Forest\n",
            "Cross-validation scores: [0.99229535 0.994061   0.99213483 0.99373997 0.99422151]\n",
            "Mean cross-validation score: 0.9932905296950241\n",
            "Standard deviation of cross-validation scores: 0.0008931253767732792\n",
            "Accuracy: 0.9964292855714572\n",
            "Precision: 0.8462386037609609\n",
            "Recall: 0.61168733171372\n",
            "F1 Score: 0.6684170744321121\n",
            "AUC-ROC: 0.6116873317137199\n",
            "Confusion Matrix:\n",
            "[[34850    14]\n",
            " [  111    32]]\n",
            "\n"
          ]
        },
        {
          "output_type": "display_data",
          "data": {
            "text/plain": [
              "<Figure size 640x480 with 1 Axes>"
            ],
            "image/png": "[encoded data removed]"
          },
          "metadata": {}
        }
      ]
    }
  ],
  "metadata": {
    "kernelspec": {
      "display_name": "Python 3",
      "language": "python",
      "name": "python3"
    },
    "language_info": {
      "codemirror_mode": {
        "name": "ipython",
        "version": 3
      },
      "file_extension": ".py",
      "mimetype": "text/x-python",
      "name": "python",
      "nbconvert_exporter": "python",
      "pygments_lexer": "ipython3",
      "version": "3.10.6"
    },
    "colab": {
      "provenance": [],
      "include_colab_link": true
    }
  },
  "nbformat": 4,
  "nbformat_minor": 0
}